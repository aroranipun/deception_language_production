{
 "cells": [
  {
   "cell_type": "markdown",
   "metadata": {},
   "source": [
    "# Classifying deceptive answers using keystrokes and linguistic cues"
   ]
  },
  {
   "cell_type": "code",
   "execution_count": 83,
   "metadata": {},
   "outputs": [],
   "source": [
    "import pandas as pd\n",
    "import os\n",
    "import matplotlib.pyplot as plt\n",
    "import numpy as np\n",
    "from tqdm import tqdm\n",
    "from sklearn import preprocessing"
   ]
  },
  {
   "cell_type": "code",
   "execution_count": 122,
   "metadata": {},
   "outputs": [],
   "source": [
    "df = pd.pandas.read_csv(\"data/engineered/final_features.csv\")"
   ]
  },
  {
   "cell_type": "code",
   "execution_count": 123,
   "metadata": {},
   "outputs": [],
   "source": [
    "# exclude columns that are not features\n",
    "aux_columns = [\n",
    "    'session_id',\n",
    "    'response_box',\n",
    "    'tag',\n",
    "    'response',\n",
    "    'truth',\n",
    "    'prompt_id',\n",
    "    'response_start',\n",
    "    'response_finish',\n",
    "    'version',\n",
    "    'prompt',\n",
    "]"
   ]
  },
  {
   "cell_type": "code",
   "execution_count": 124,
   "metadata": {},
   "outputs": [],
   "source": [
    "features = list(set(df.columns) - set(aux_columns))"
   ]
  },
  {
   "cell_type": "code",
   "execution_count": 130,
   "metadata": {},
   "outputs": [
    {
     "data": {
      "text/plain": [
       "264"
      ]
     },
     "execution_count": 130,
     "metadata": {},
     "output_type": "execute_result"
    }
   ],
   "source": [
    "# number of samples\n",
    "len(df)"
   ]
  },
  {
   "cell_type": "code",
   "execution_count": 126,
   "metadata": {},
   "outputs": [
    {
     "data": {
      "text/plain": [
       "68"
      ]
     },
     "execution_count": 126,
     "metadata": {},
     "output_type": "execute_result"
    }
   ],
   "source": [
    "# number of features\n",
    "len(features)"
   ]
  },
  {
   "cell_type": "code",
   "execution_count": 127,
   "metadata": {},
   "outputs": [],
   "source": [
    "df.fillna(-100, inplace=True)"
   ]
  },
  {
   "cell_type": "code",
   "execution_count": 128,
   "metadata": {},
   "outputs": [],
   "source": [
    "#sesssion has only 2 responses\n",
    "df = df[df.session_id != \"17ddbab2-6d04-405b-afdb-37b992102569\"] "
   ]
  },
  {
   "cell_type": "code",
   "execution_count": 129,
   "metadata": {},
   "outputs": [],
   "source": [
    "from sklearn.preprocessing import StandardScaler\n",
    "scaler = StandardScaler()\n",
    "scaler.fit(df[features])\n",
    "df[features] = scaler.transform(df[features])"
   ]
  },
  {
   "cell_type": "markdown",
   "metadata": {},
   "source": [
    "## Standardize for between subject variation\n",
    "To account for between subject variation, I use features from response 1 to standardize those of response 2 and 3 "
   ]
  },
  {
   "cell_type": "code",
   "execution_count": 245,
   "metadata": {},
   "outputs": [],
   "source": [
    "df_resp1 = df.loc[df.response_box=='response1'].copy()\n",
    "df_resp2 = df.loc[df.response_box=='response2'].copy()\n",
    "df_resp3 = df.loc[df.response_box=='response3'].copy()"
   ]
  },
  {
   "cell_type": "code",
   "execution_count": 250,
   "metadata": {},
   "outputs": [],
   "source": [
    "for i in features:\n",
    "    df_resp2[i] = df_resp2[i].values - df_resp1[i].values\n",
    "    df_resp3[i] = df_resp3[i].values - df_resp1[i].values"
   ]
  },
  {
   "cell_type": "code",
   "execution_count": 251,
   "metadata": {},
   "outputs": [],
   "source": [
    "df = pd.concat([df_resp2, df_resp3], axis=0)"
   ]
  },
  {
   "cell_type": "markdown",
   "metadata": {},
   "source": [
    "## Feature Selection\n",
    "\n",
    "Use an extratreesclassifier to get the top N features.\n",
    "\n",
    "Following the example here: https://scikit-learn.org/stable/auto_examples/ensemble/plot_forest_importances.html#sphx-glr-auto-examples-ensemble-plot-forest-importances-py"
   ]
  },
  {
   "cell_type": "code",
   "execution_count": 254,
   "metadata": {},
   "outputs": [],
   "source": [
    "from sklearn.model_selection import train_test_split, cross_val_score\n",
    "from sklearn.feature_selection import VarianceThreshold\n",
    "from sklearn.ensemble import GradientBoostingClassifier, RandomForestClassifier, ExtraTreesClassifier"
   ]
  },
  {
   "cell_type": "code",
   "execution_count": 255,
   "metadata": {},
   "outputs": [
    {
     "data": {
      "text/plain": [
       "ExtraTreesClassifier(bootstrap=False, ccp_alpha=0.0, class_weight=None,\n",
       "                     criterion='gini', max_depth=None, max_features='auto',\n",
       "                     max_leaf_nodes=None, max_samples=None,\n",
       "                     min_impurity_decrease=0.0, min_impurity_split=None,\n",
       "                     min_samples_leaf=1, min_samples_split=2,\n",
       "                     min_weight_fraction_leaf=0.0, n_estimators=5000,\n",
       "                     n_jobs=None, oob_score=False, random_state=None, verbose=0,\n",
       "                     warm_start=False)"
      ]
     },
     "execution_count": 255,
     "metadata": {},
     "output_type": "execute_result"
    }
   ],
   "source": [
    "forest = ExtraTreesClassifier(n_estimators=5000)\n",
    "forest.fit(df[features], df['truth'])"
   ]
  },
  {
   "cell_type": "code",
   "execution_count": 275,
   "metadata": {},
   "outputs": [
    {
     "name": "stdout",
     "output_type": "stream",
     "text": [
      "Feature ranking:\n",
      "1. feature total_input (0.100741)\n",
      "2. feature total_strokes (0.100716)\n",
      "3. feature last_key_time (0.074402)\n",
      "4. feature count_char (0.073765)\n",
      "5. feature count_tokens (0.067387)\n",
      "6. feature duration_keys (0.057361)\n",
      "7. feature first_key_time (0.034584)\n",
      "8. feature di_press_mean (0.029062)\n",
      "9. feature tri_press_mean (0.028654)\n",
      "10. feature press_time_mean (0.026304)\n",
      "11. feature avg_token_size (0.025391)\n",
      "12. feature ratio_unique_tokens (0.021557)\n",
      "13. feature ratio_unique_lemmas (0.019164)\n",
      "14. feature count_sentence (0.017644)\n",
      "15. feature ratio_duration_word (0.014319)\n",
      "16. feature total_characters_discretely_removed (0.013810)\n",
      "17. feature ratio_duration_char (0.013692)\n",
      "18. feature tri_flight_std_dev (0.010205)\n",
      "19. feature tri_flight_skewness (0.009635)\n",
      "20. feature total_characters_removed (0.009399)\n",
      "21. feature flight_time_std_dev (0.009260)\n",
      "22. feature di_flight_std_dev (0.009246)\n",
      "23. feature avg_sentence_size (0.009213)\n",
      "24. feature di_flight_skewness (0.009136)\n",
      "25. feature ratio_unique_verb (0.009002)\n",
      "26. feature flight_time_skewness (0.008552)\n",
      "27. feature ratio_VERB (0.008297)\n",
      "28. feature flight_time_mean (0.008267)\n",
      "29. feature ratio_NOUN (0.008234)\n",
      "30. feature ratio_DET (0.008205)\n",
      "31. feature di_flight_mean (0.008053)\n",
      "32. feature ratio_total_errors (0.007979)\n",
      "33. feature ratio_long_tokens (0.007811)\n",
      "34. feature tri_flight_mean (0.007457)\n",
      "35. feature ratio_PRON (0.006637)\n",
      "36. feature time_after_last_key (0.006390)\n",
      "37. feature total_occurene_bulk_delete (0.005954)\n",
      "38. feature tri_press_std_dev (0.005819)\n",
      "39. feature di_press_std_dev (0.005657)\n",
      "40. feature total_characters_bulk_removed (0.005366)\n",
      "41. feature di_press_skewness (0.005348)\n",
      "42. feature tri_press_skewness (0.005256)\n",
      "43. feature ratio_ADP (0.005021)\n",
      "44. feature ratio_total_discrete_errors (0.004736)\n",
      "45. feature ratio_unique_pro (0.004715)\n",
      "46. feature press_time_std_dev (0.004714)\n",
      "47. feature press_time_skewness (0.004626)\n",
      "48. feature ratio_first_pro (0.004450)\n",
      "49. feature time_before_first_key (0.004371)\n",
      "50. feature ratio_total_bulk_errors (0.004259)\n",
      "51. feature ratio_past_tense (0.003949)\n",
      "52. feature ratio_ADJ (0.003839)\n",
      "53. feature ratio_CCONJ (0.003820)\n",
      "54. feature ratio_first_sin_pro (0.003768)\n",
      "55. feature ratio_first_plur_pro (0.003736)\n",
      "56. feature ratio_AUX (0.003601)\n",
      "57. feature ratio_PART (0.003357)\n",
      "58. feature ratio_present_tense (0.003348)\n",
      "59. feature ratio_NUM (0.003014)\n",
      "60. feature ratio_ADV (0.002710)\n",
      "61. feature ratio_SCONJ (0.002573)\n",
      "62. feature ratio_PROPN (0.002496)\n",
      "63. feature ratio_passive_verb (0.002341)\n",
      "64. feature ratio_X (0.002082)\n",
      "65. feature ratio_quantifier (0.002038)\n",
      "66. feature ratio_third_person_pro (0.001407)\n",
      "67. feature ratio_second_person_pro (0.001261)\n",
      "68. feature ratio_INTJ (0.000836)\n"
     ]
    },
    {
     "data": {
      "image/png": "[encoded data removed]",
      "text/plain": [
       "<Figure size 1080x360 with 1 Axes>"
      ]
     },
     "metadata": {
      "needs_background": "light"
     },
     "output_type": "display_data"
    }
   ],
   "source": [
    "importances = forest.feature_importances_\n",
    "std = np.std([tree.feature_importances_ for tree in forest.estimators_], axis=0)\n",
    "indices = np.argsort(importances)[::-1]\n",
    "\n",
    "# Print the feature ranking\n",
    "print(\"Feature ranking:\")\n",
    "\n",
    "top_features = []\n",
    "for idx, f in enumerate(range(len(features))):\n",
    "    print(\"%d. feature %s (%f)\" % (f + 1, features[indices[f]], importances[indices[f]]))\n",
    "    if idx < 10: # take the top 10 features\n",
    "        top_features.append(features[indices[f]])\n",
    "\n",
    "# Plot the feature importances of the forest\n",
    "plt.figure(figsize=(15, 5))\n",
    "plt.title(\"Feature importances\")\n",
    "plt.bar(range(len(features)), importances[indices], color=\"r\", yerr=std[indices], align=\"center\")\n",
    "plt.xticks(range(len(features)), indices)\n",
    "plt.xlim([-1, len(features)])\n",
    "plt.show()"
   ]
  },
  {
   "cell_type": "code",
   "execution_count": 271,
   "metadata": {},
   "outputs": [],
   "source": [
    "from sklearn.metrics import zero_one_loss\n",
    "\n",
    "# GradientBoostingClassifier performs better than RandomForestClassifier\n",
    "params = {\n",
    "    'n_estimators': 50, 'max_leaf_nodes': 10, 'max_depth': 4, 'random_state': 2,\n",
    "    'min_samples_split': 5, 'learning_rate': 0.1, 'min_samples_leaf': 0.1}\n",
    "cls = GradientBoostingClassifier\n",
    "\n",
    "# params = {\n",
    "#     'n_estimators': 50, 'max_leaf_nodes': 10, 'max_depth': 10, 'random_state': 2,\n",
    "#     'min_samples_split': 5}\n",
    "# cls = RandomForestClassifier"
   ]
  },
  {
   "cell_type": "code",
   "execution_count": 272,
   "metadata": {},
   "outputs": [],
   "source": [
    "# patch in staged prediction for RandomForestClassifier\n",
    "\n",
    "def staged_predict_proba(self, X):\n",
    "    # staged_predict_proba for random forests\n",
    "    y_proba = np.zeros((X.shape[0], 2), dtype=np.float64)\n",
    "    for i, e in enumerate(self.estimators_):\n",
    "        y_proba += e.predict_proba(X)\n",
    "        yield y_proba / (i + 1)\n",
    "\n",
    "def staged_predict(self, X):\n",
    "    # staged_predict for random forests\n",
    "    y_proba = np.zeros((X.shape[0], 2), dtype=np.float64)\n",
    "    for i, e in enumerate(self.estimators_):\n",
    "        y_proba += e.predict_proba(X)\n",
    "        yield self.classes_.take(np.argmax(y_proba / (i + 1), axis=1), axis=0)\n",
    "        \n",
    "RandomForestClassifier.staged_predict = staged_predict\n",
    "RandomForestClassifier.staged_predict_proba = staged_predict_proba"
   ]
  },
  {
   "cell_type": "markdown",
   "metadata": {},
   "source": [
    "Train 100 models on 100 different train/test splits and then average performance metrics. We're dealing with a small sample here so this sampling approach will help approximate generalized performance on a larger sample"
   ]
  },
  {
   "cell_type": "code",
   "execution_count": 273,
   "metadata": {},
   "outputs": [
    {
     "name": "stderr",
     "output_type": "stream",
     "text": [
      "100%|██████████| 100/100 [00:13<00:00,  7.20it/s]\n"
     ]
    },
    {
     "data": {
      "image/png": "[encoded data removed]",
      "text/plain": [
       "<Figure size 720x576 with 1 Axes>"
      ]
     },
     "metadata": {
      "needs_background": "light"
     },
     "output_type": "display_data"
    }
   ],
   "source": [
    "from scipy.stats import mstats\n",
    "\n",
    "fig = plt.figure(figsize=(10, 8))\n",
    "ax = fig.add_subplot(111)\n",
    "\n",
    "test_errs = []\n",
    "train_errs = []\n",
    "\n",
    "for i in tqdm(range(100)):\n",
    "\n",
    "    df_train, df_test = train_test_split(df, test_size=0.2)\n",
    "    \n",
    "    clf = cls(**params)\n",
    "    clf.fit(df_train[top_features], df_train['truth'])\n",
    "\n",
    "    test_err = np.zeros((clf.n_estimators,))\n",
    "    train_err = np.zeros((clf.n_estimators,))\n",
    "    \n",
    "    for i, y_pred in enumerate(clf.staged_predict(df_test[top_features])):\n",
    "        test_err[i] = zero_one_loss(y_pred, df_test['truth'])\n",
    "    for i, y_pred in enumerate(clf.staged_predict(df_train[top_features])):\n",
    "        train_err[i] = zero_one_loss(y_pred, df_train['truth'])\n",
    "\n",
    "    ax.plot(np.arange(clf.n_estimators) + 1, test_err,\n",
    "            color='red', alpha=0.05)\n",
    "    ax.plot(np.arange(clf.n_estimators) + 1, train_err,\n",
    "            color='blue', alpha=0.05)\n",
    "    \n",
    "    test_errs.append(test_err)\n",
    "    train_errs.append(train_err)\n",
    "    \n",
    "ax.plot(np.arange(clf.n_estimators) + 1, np.mean(test_errs, axis=0),\n",
    "        label='Test Error',\n",
    "        color='red')\n",
    "ax.plot(np.arange(clf.n_estimators) + 1, np.mean(train_errs, axis=0),\n",
    "        label='Train Error',\n",
    "        color='blue')\n",
    "\n",
    "test_quantiles = mstats.mquantiles(test_errs, axis=0)\n",
    "train_quantiles = mstats.mquantiles(train_errs, axis=0)\n",
    "\n",
    "ax.fill_between(np.arange(clf.n_estimators) + 1, test_quantiles[0], test_quantiles[2], facecolor='red', alpha=0.2)\n",
    "ax.fill_between(np.arange(clf.n_estimators) + 1, train_quantiles[0], train_quantiles[2], facecolor='blue', alpha=0.2)\n",
    "\n",
    "ax.axhline(0.5, linestyle='--', color='k')\n",
    "ax.set_ylim((0.0, 0.6))\n",
    "ax.set_xlim((1, clf.n_estimators))\n",
    "ax.set_xlabel('n_estimators')\n",
    "ax.set_ylabel('error rate')\n",
    "ax.legend();\n"
   ]
  }
 ],
 "metadata": {
  "kernelspec": {
   "display_name": "Python 3",
   "language": "python",
   "name": "python3"
  },
  "language_info": {
   "codemirror_mode": {
    "name": "ipython",
    "version": 3
   },
   "file_extension": ".py",
   "mimetype": "text/x-python",
   "name": "python",
   "nbconvert_exporter": "python",
   "pygments_lexer": "ipython3",
   "version": "3.7.5"
  }
 },
 "nbformat": 4,
 "nbformat_minor": 4
}
